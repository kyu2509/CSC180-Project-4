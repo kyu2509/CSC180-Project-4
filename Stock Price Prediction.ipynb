{
 "cells": [
  {
   "cell_type": "markdown",
   "metadata": {},
   "source": [
    "# Imports & Functions"
   ]
  },
  {
   "cell_type": "code",
   "execution_count": 63,
   "metadata": {},
   "outputs": [],
   "source": [
    "from collections.abc import Sequence\n",
    "from sklearn import preprocessing\n",
    "import matplotlib.pyplot as plt\n",
    "import numpy as np\n",
    "import pandas as pd\n",
    "import shutil\n",
    "import os\n",
    "\n",
    "import random\n",
    "from math import floor\n",
    "from matplotlib.pyplot import figure, show\n",
    "from sklearn.model_selection import train_test_split\n",
    "import os\n",
    "from sklearn import metrics\n",
    "from sklearn.feature_extraction.text import TfidfVectorizer\n",
    "from tensorflow.keras.models import Sequential\n",
    "from tensorflow.keras.layers import Dense, Activation, Dropout\n",
    "from tensorflow.keras.callbacks import EarlyStopping\n",
    "from tensorflow.keras.callbacks import ModelCheckpoint\n",
    "from tensorflow.keras import optimizers\n",
    "from tensorflow.keras.layers import LSTM\n",
    "\n",
    "# Encode text values to dummy variables(i.e. [1,0,0],[0,1,0],[0,0,1] for red,green,blue)\n",
    "def encode_text_dummy(df, name):\n",
    "    dummies = pd.get_dummies(df[name])\n",
    "    for x in dummies.columns:\n",
    "        dummy_name = \"{}-{}\".format(name, x)\n",
    "        df[dummy_name] = dummies[x]\n",
    "    df.drop(name, axis=1, inplace=True)\n",
    "\n",
    "\n",
    "# Encode text values to indexes(i.e. [1],[2],[3] for red,green,blue).\n",
    "def encode_text_index(df, name):\n",
    "    le = preprocessing.LabelEncoder()\n",
    "    df[name] = le.fit_transform(df[name])\n",
    "    return le.classes_\n",
    "\n",
    "\n",
    "# Encode a numeric column as zscores\n",
    "def encode_numeric_zscore(df, name, mean=None, sd=None):\n",
    "    if mean is None:\n",
    "        mean = df[name].mean()\n",
    "\n",
    "    if sd is None:\n",
    "        sd = df[name].std()\n",
    "\n",
    "    df[name] = (df[name] - mean) / sd\n",
    "\n",
    "\n",
    "# Convert all missing values in the specified column to the median\n",
    "def missing_median(df, name):\n",
    "    med = df[name].median()\n",
    "    df[name] = df[name].fillna(med)\n",
    "\n",
    "\n",
    "# Convert all missing values in the specified column to the default\n",
    "def missing_default(df, name, default_value):\n",
    "    df[name] = df[name].fillna(default_value)\n",
    "\n",
    "\n",
    "# Convert a Pandas dataframe to the x,y inputs that TensorFlow needs\n",
    "def to_xy(df, target):\n",
    "    result = []\n",
    "    for x in df.columns:\n",
    "        if x != target:\n",
    "            result.append(x)\n",
    "    # find out the type of the target column. \n",
    "    target_type = df[target].dtypes\n",
    "    target_type = target_type[0] if isinstance(target_type, Sequence) else target_type\n",
    "    # Encode to int for classification, float otherwise. TensorFlow likes 32 bits.\n",
    "    if target_type in (np.int64, np.int32):\n",
    "        # Classification\n",
    "        dummies = pd.get_dummies(df[target])\n",
    "        return df[result].values.astype(np.float32), dummies.values.astype(np.float32)\n",
    "    else:\n",
    "        # Regression\n",
    "        return df[result].values.astype(np.float32), df[target].values.astype(np.float32)\n",
    "\n",
    "# Nicely formatted time string\n",
    "def hms_string(sec_elapsed):\n",
    "    h = int(sec_elapsed / (60 * 60))\n",
    "    m = int((sec_elapsed % (60 * 60)) / 60)\n",
    "    s = sec_elapsed % 60\n",
    "    return \"{}:{:>02}:{:>05.2f}\".format(h, m, s)\n",
    "\n",
    "\n",
    "# Regression chart.\n",
    "def chart_regression(pred,y,sort=True):\n",
    "    t = pd.DataFrame({'pred' : pred, 'y' : y.flatten()})\n",
    "    if sort:\n",
    "        t.sort_values(by=['y'],inplace=True)\n",
    "    a = plt.plot(t['y'].tolist(),label='expected')\n",
    "    b = plt.plot(t['pred'].tolist(),label='prediction')\n",
    "    plt.ylabel('output')\n",
    "    plt.legend()\n",
    "    plt.show()\n",
    "\n",
    "# Remove all rows where the specified column is +/- sd standard deviations\n",
    "def remove_outliers(df, name, sd):\n",
    "    drop_rows = df.index[(np.abs(df[name] - df[name].mean()) >= (sd * df[name].std()))]\n",
    "    df.drop(drop_rows, axis=0, inplace=True)\n",
    "\n",
    "\n",
    "# Encode a column to a range between normalized_low and normalized_high.\n",
    "def encode_numeric_range(df, name, normalized_low=-1, normalized_high=1,\n",
    "                         data_low=None, data_high=None):\n",
    "    if data_low is None:\n",
    "        data_low = min(df[name])\n",
    "        data_high = max(df[name])\n",
    "\n",
    "    df[name] = ((df[name] - data_low) / (data_high - data_low)) \\\n",
    "               * (normalized_high - normalized_low) + normalized_low\n"
   ]
  },
  {
   "cell_type": "markdown",
   "metadata": {},
   "source": [
    "# Data Preprocessing"
   ]
  },
  {
   "cell_type": "markdown",
   "metadata": {},
   "source": [
    "Katrina Yu"
   ]
  },
  {
   "cell_type": "code",
   "execution_count": 64,
   "metadata": {},
   "outputs": [
    {
     "name": "stdout",
     "output_type": "stream",
     "text": [
      "(3578, 7)\n",
      "         Date       Open       High        Low      Close  Adj Close    Volume\n",
      "0  2004-08-19  49.676899  51.693783  47.669952  49.845802  49.845802  44994500\n",
      "1  2004-08-20  50.178635  54.187561  49.925285  53.805050  53.805050  23005800\n",
      "2  2004-08-23  55.017166  56.373344  54.172661  54.346527  54.346527  18393200\n",
      "3  2004-08-24  55.260582  55.439419  51.450363  52.096165  52.096165  15361800\n",
      "4  2004-08-25  52.140873  53.651051  51.604362  52.657513  52.657513   9257400\n",
      "(3578, 6)\n",
      "        Open       High        Low   In Close    Volume  Out Close\n",
      "0  49.676899  51.693783  47.669952  49.845802  44994500  49.845802\n",
      "1  50.178635  54.187561  49.925285  53.805050  23005800  53.805050\n",
      "2  55.017166  56.373344  54.172661  54.346527  18393200  54.346527\n",
      "3  55.260582  55.439419  51.450363  52.096165  15361800  52.096165\n",
      "4  52.140873  53.651051  51.604362  52.657513   9257400  52.657513\n",
      "In Close:\n",
      "\n",
      "         In Close\n",
      "0       49.845802\n",
      "1       53.805050\n",
      "2       54.346527\n",
      "3       52.096165\n",
      "4       52.657513\n",
      "...           ...\n",
      "3573  1071.469971\n",
      "3574  1020.080017\n",
      "3575  1036.209961\n",
      "3576  1076.770020\n",
      "3577  1070.000000\n",
      "\n",
      "[3578 rows x 1 columns]\n",
      "Out Close:\n",
      "\n",
      "        Out Close\n",
      "0       49.845802\n",
      "1       53.805050\n",
      "2       54.346527\n",
      "3       52.096165\n",
      "4       52.657513\n",
      "...           ...\n",
      "3573  1071.469971\n",
      "3574  1020.080017\n",
      "3575  1036.209961\n",
      "3576  1076.770020\n",
      "3577  1070.000000\n",
      "\n",
      "[3578 rows x 1 columns]\n",
      "        Open       High        Low   In Close    Volume  Out Close\n",
      "0  49.676899  51.693783  47.669952  49.845802  44994500  49.845802\n",
      "1  50.178635  54.187561  49.925285  53.805050  23005800  53.805050\n",
      "2  55.017166  56.373344  54.172661  54.346527  18393200  54.346527\n",
      "3  55.260582  55.439419  51.450363  52.096165  15361800  52.096165\n",
      "4  52.140873  53.651051  51.604362  52.657513   9257400  52.657513\n"
     ]
    }
   ],
   "source": [
    "path = \"./data/\"\n",
    "\n",
    "df = pd.read_csv(path + \"GOOG.csv\")\n",
    "\n",
    "print(df.shape)\n",
    "print(df[0:5])\n",
    "\n",
    "# Dropping date and Adj Close, not needed\n",
    "df.drop(columns={\"Date\", \"Adj Close\"}, inplace=True)\n",
    "\n",
    "out_close = df[[\"Close\"]]\n",
    "\n",
    "# Close Feature for Input\n",
    "df.rename(columns={\"Close\": \"In Close\"}, inplace=True)\n",
    "df = pd.concat([df, out_close], axis=1)\n",
    "\n",
    "# Close Feature for Output\n",
    "df.rename(columns={\"Close\": \"Out Close\"}, inplace=True)\n",
    "\n",
    "print(df.shape)\n",
    "print(df[0:5])\n",
    "\n",
    "# Close Feature for Input\n",
    "print(\"In Close:\\n\")\n",
    "print(df[[\"In Close\"][0:5]])\n",
    "\n",
    "# Close Feature for Output\n",
    "print(\"Out Close:\\n\")\n",
    "print(df[[\"Out Close\"][0:5]])\n",
    "\n",
    "print(df.head())"
   ]
  },
  {
   "cell_type": "markdown",
   "metadata": {},
   "source": [
    "### Normalizing Data\n",
    "Katrina Yu"
   ]
  },
  {
   "cell_type": "code",
   "execution_count": 65,
   "metadata": {},
   "outputs": [
    {
     "name": "stdout",
     "output_type": "stream",
     "text": [
      "        Open       High        Low   In Close    Volume  Out Close\n",
      "0  49.676899  51.693783  47.669952  49.845802  44994500  49.845802\n",
      "1  50.178635  54.187561  49.925285  53.805050  23005800  53.805050\n",
      "2  55.017166  56.373344  54.172661  54.346527  18393200  54.346527\n",
      "3  55.260582  55.439419  51.450363  52.096165  15361800  52.096165\n",
      "4  52.140873  53.651051  51.604362  52.657513   9257400  52.657513\n",
      "(3578, 6)\n",
      "       Open      High       Low  In Close    Volume  Out Close\n",
      "0 -1.334844 -1.331443 -1.337457 -1.333645  4.533247  49.845802\n",
      "1 -1.333101 -1.322843 -1.329562 -1.319893  1.870138  53.805050\n",
      "2 -1.316291 -1.315305 -1.314693 -1.318012  1.311494  54.346527\n",
      "3 -1.315446 -1.318526 -1.324223 -1.325828  0.944353  52.096165\n",
      "4 -1.326284 -1.324693 -1.323684 -1.323879  0.205033  52.657513\n"
     ]
    }
   ],
   "source": [
    "print(df.head())\n",
    "\n",
    "# Numeric Features\n",
    "numeric_feats = [\"Open\", \"High\", \"Low\", \"In Close\", \"Volume\"]\n",
    "\n",
    "# Data Normalization for Input Features, so exclude \"Out Close\"\n",
    "for i in numeric_feats:\n",
    "    encode_numeric_zscore(df, i)\n",
    "    \n",
    "print(df.shape)\n",
    "print(df.head())"
   ]
  },
  {
   "cell_type": "markdown",
   "metadata": {},
   "source": [
    "### Train-Test Split for Training & Testing\n",
    "Katrina Yu"
   ]
  },
  {
   "cell_type": "code",
   "execution_count": null,
   "metadata": {},
   "outputs": [
    {
     "name": "stdout",
     "output_type": "stream",
     "text": [
      "(2504, 6)\n",
      "(1074, 6)\n"
     ]
    }
   ],
   "source": [
    "# Splitting 70% of data for Training & 30% for Testing\n",
    "split_index = floor((df[\"Open\"].shape[0])*0.70)\n",
    "\n",
    "df_train = df[0:split_index]\n",
    "df_test = df[split_index:]\n",
    "\n",
    "print(df_train.shape)\n",
    "print(df_test.shape)"
   ]
  },
  {
   "cell_type": "markdown",
   "metadata": {},
   "source": [
    "### Sequence data to create x and y in the format RNN likes.\n",
    "Katrina Yu"
   ]
  },
  {
   "cell_type": "code",
   "execution_count": 67,
   "metadata": {},
   "outputs": [],
   "source": [
    "import numpy as np\n",
    "\n",
    "def to_sequences(seq_size, data):\n",
    "    x = []\n",
    "    y = []\n",
    "\n",
    "    for i in range(len(data)-seq_size-1):\n",
    "        #print(i)\n",
    "        window = data.iloc[i:(i+seq_size)][[\"Open\", \"High\", \"Low\", \"In Close\", \"Volume\"]].values\n",
    "        after_window = data.iloc[i+seq_size][\"Out Close\"]\n",
    "        #window = [[x] for x in window]\n",
    "        #print(\"{} - {}\".format(window,after_window))\n",
    "        x.append(window)\n",
    "        y.append(after_window)\n",
    "        \n",
    "    return np.array(x),np.array(y)"
   ]
  },
  {
   "cell_type": "code",
   "execution_count": 68,
   "metadata": {},
   "outputs": [
    {
     "name": "stdout",
     "output_type": "stream",
     "text": [
      "2504\n",
      "Shape of x_train: (2496, 7, 5)\n",
      "Shape of x_test: (1066, 7, 5)\n",
      "Shape of y_train: (2496,)\n",
      "Shape of y_test: (1066,)\n"
     ]
    }
   ],
   "source": [
    "print(len(df_train))\n",
    "\n",
    "# Past 7 days used for prediction\n",
    "SEQUENCE_SIZE = 7\n",
    "x_train,y_train = to_sequences(SEQUENCE_SIZE, df_train)\n",
    "x_test,y_test = to_sequences(SEQUENCE_SIZE, df_test)\n",
    "\n",
    "print(\"Shape of x_train: {}\".format(x_train.shape))\n",
    "print(\"Shape of x_test: {}\".format(x_test.shape))\n",
    "print(\"Shape of y_train: {}\".format(y_train.shape))\n",
    "print(\"Shape of y_test: {}\".format(y_test.shape))\n",
    "\n",
    "#print(\"x_train:\\n {}\".format(x_train[0:3]))\n",
    "\n",
    "#print(\"y_train:\\n {}\".format(y_train[0:3]))"
   ]
  },
  {
   "cell_type": "markdown",
   "metadata": {},
   "source": [
    "# Building RNN Model using LSTM\n",
    "Katrina Yu"
   ]
  },
  {
   "cell_type": "code",
   "execution_count": 84,
   "metadata": {},
   "outputs": [
    {
     "name": "stderr",
     "output_type": "stream",
     "text": [
      "c:\\Users\\k47r1\\anaconda3\\Lib\\site-packages\\keras\\src\\layers\\rnn\\rnn.py:204: UserWarning: Do not pass an `input_shape`/`input_dim` argument to a layer. When using Sequential models, prefer using an `Input(shape)` object as the first layer in the model instead.\n",
      "  super().__init__(**kwargs)\n"
     ]
    },
    {
     "name": "stdout",
     "output_type": "stream",
     "text": [
      "Epoch 1/100\n",
      "79/79 - 13s - 166ms/step - loss: 49673.9961 - val_loss: 816133.3125\n",
      "Epoch 2/100\n",
      "79/79 - 2s - 21ms/step - loss: 5225.0581 - val_loss: 59197.8203\n",
      "Epoch 3/100\n",
      "79/79 - 2s - 21ms/step - loss: 1938.4595 - val_loss: 11727.3125\n",
      "Epoch 4/100\n",
      "79/79 - 2s - 21ms/step - loss: 548.2869 - val_loss: 2093.6519\n",
      "Epoch 5/100\n",
      "79/79 - 2s - 24ms/step - loss: 203.3291 - val_loss: 170.6643\n",
      "Epoch 6/100\n",
      "79/79 - 2s - 21ms/step - loss: 131.3463 - val_loss: 616.1205\n",
      "Epoch 7/100\n",
      "79/79 - 2s - 21ms/step - loss: 107.8557 - val_loss: 291.2555\n",
      "Epoch 8/100\n",
      "79/79 - 2s - 21ms/step - loss: 110.6601 - val_loss: 616.2076\n",
      "Epoch 9/100\n",
      "79/79 - 2s - 21ms/step - loss: 104.2396 - val_loss: 553.4978\n",
      "Epoch 10/100\n",
      "79/79 - 2s - 22ms/step - loss: 100.7090 - val_loss: 639.0256\n",
      "Epoch 10: early stopping\n",
      "Epoch 1/100\n",
      "79/79 - 9s - 110ms/step - loss: 50755.7109 - val_loss: 482045.8750\n",
      "Epoch 2/100\n",
      "79/79 - 2s - 25ms/step - loss: 5488.7300 - val_loss: 57875.5859\n",
      "Epoch 3/100\n",
      "79/79 - 2s - 26ms/step - loss: 2386.9941 - val_loss: 17264.0000\n",
      "Epoch 4/100\n",
      "79/79 - 2s - 23ms/step - loss: 695.0639 - val_loss: 5915.2344\n",
      "Epoch 5/100\n",
      "79/79 - 2s - 24ms/step - loss: 236.3279 - val_loss: 640.2001\n",
      "Epoch 6/100\n",
      "79/79 - 2s - 24ms/step - loss: 140.3604 - val_loss: 230.1554\n",
      "Epoch 7/100\n",
      "79/79 - 2s - 21ms/step - loss: 117.9730 - val_loss: 347.4655\n",
      "Epoch 8/100\n",
      "79/79 - 2s - 23ms/step - loss: 114.1168 - val_loss: 521.7662\n",
      "Epoch 9/100\n",
      "79/79 - 2s - 25ms/step - loss: 109.1997 - val_loss: 217.7184\n",
      "Epoch 10/100\n",
      "79/79 - 2s - 23ms/step - loss: 113.0879 - val_loss: 791.0642\n",
      "Epoch 11/100\n",
      "79/79 - 2s - 24ms/step - loss: 101.0399 - val_loss: 339.4095\n",
      "Epoch 12/100\n",
      "79/79 - 2s - 25ms/step - loss: 102.8520 - val_loss: 187.3321\n",
      "Epoch 13/100\n",
      "79/79 - 2s - 22ms/step - loss: 104.2074 - val_loss: 182.0889\n",
      "Epoch 14/100\n",
      "79/79 - 2s - 22ms/step - loss: 93.5415 - val_loss: 802.9397\n",
      "Epoch 15/100\n",
      "79/79 - 2s - 23ms/step - loss: 103.0357 - val_loss: 576.0817\n",
      "Epoch 16/100\n",
      "79/79 - 2s - 22ms/step - loss: 102.0990 - val_loss: 573.7415\n",
      "Epoch 17/100\n",
      "79/79 - 2s - 21ms/step - loss: 104.4665 - val_loss: 195.5446\n",
      "Epoch 18/100\n",
      "79/79 - 2s - 23ms/step - loss: 106.8279 - val_loss: 168.0629\n",
      "Epoch 19/100\n",
      "79/79 - 2s - 22ms/step - loss: 97.5055 - val_loss: 202.6470\n",
      "Epoch 20/100\n",
      "79/79 - 2s - 22ms/step - loss: 105.6890 - val_loss: 255.9524\n",
      "Epoch 21/100\n",
      "79/79 - 2s - 22ms/step - loss: 99.0566 - val_loss: 166.7434\n",
      "Epoch 22/100\n",
      "79/79 - 2s - 22ms/step - loss: 93.0437 - val_loss: 184.4619\n",
      "Epoch 23/100\n",
      "79/79 - 2s - 22ms/step - loss: 109.3305 - val_loss: 193.8764\n",
      "Epoch 24/100\n",
      "79/79 - 3s - 33ms/step - loss: 96.2520 - val_loss: 298.1805\n",
      "Epoch 25/100\n",
      "79/79 - 2s - 22ms/step - loss: 100.6069 - val_loss: 492.7701\n",
      "Epoch 26/100\n",
      "79/79 - 2s - 23ms/step - loss: 98.8553 - val_loss: 229.3692\n",
      "Epoch 26: early stopping\n",
      "Epoch 1/100\n",
      "79/79 - 11s - 137ms/step - loss: 50375.5859 - val_loss: 986538.3125\n",
      "Epoch 2/100\n",
      "79/79 - 2s - 22ms/step - loss: 4935.9424 - val_loss: 44830.4336\n",
      "Epoch 3/100\n",
      "79/79 - 2s - 24ms/step - loss: 1786.8026 - val_loss: 20365.6367\n",
      "Epoch 4/100\n",
      "79/79 - 2s - 24ms/step - loss: 516.6118 - val_loss: 3140.2717\n",
      "Epoch 5/100\n",
      "79/79 - 2s - 25ms/step - loss: 188.9298 - val_loss: 218.6523\n",
      "Epoch 6/100\n",
      "79/79 - 2s - 24ms/step - loss: 119.9472 - val_loss: 169.6968\n",
      "Epoch 7/100\n",
      "79/79 - 2s - 22ms/step - loss: 107.4640 - val_loss: 319.4694\n",
      "Epoch 8/100\n",
      "79/79 - 2s - 22ms/step - loss: 102.9377 - val_loss: 175.6223\n",
      "Epoch 9/100\n",
      "79/79 - 2s - 21ms/step - loss: 99.9296 - val_loss: 345.5526\n",
      "Epoch 10/100\n",
      "79/79 - 2s - 22ms/step - loss: 96.6707 - val_loss: 173.9650\n",
      "Epoch 11/100\n",
      "79/79 - 2s - 22ms/step - loss: 105.2032 - val_loss: 195.9766\n",
      "Epoch 11: early stopping\n",
      "Epoch 1/100\n",
      "79/79 - 9s - 113ms/step - loss: 50188.5391 - val_loss: 569315.0000\n",
      "Epoch 2/100\n",
      "79/79 - 2s - 24ms/step - loss: 4962.4087 - val_loss: 47768.4844\n",
      "Epoch 3/100\n",
      "79/79 - 2s - 23ms/step - loss: 2002.4996 - val_loss: 14420.3105\n",
      "Epoch 4/100\n",
      "79/79 - 2s - 22ms/step - loss: 634.9606 - val_loss: 3543.1597\n",
      "Epoch 5/100\n",
      "79/79 - 2s - 25ms/step - loss: 232.8210 - val_loss: 297.6774\n",
      "Epoch 6/100\n",
      "79/79 - 2s - 25ms/step - loss: 139.2335 - val_loss: 287.9038\n",
      "Epoch 7/100\n",
      "79/79 - 2s - 21ms/step - loss: 113.5839 - val_loss: 348.3648\n",
      "Epoch 8/100\n",
      "79/79 - 2s - 22ms/step - loss: 105.8240 - val_loss: 525.6018\n",
      "Epoch 9/100\n",
      "79/79 - 2s - 21ms/step - loss: 105.7147 - val_loss: 576.5840\n",
      "Epoch 10/100\n",
      "79/79 - 2s - 21ms/step - loss: 108.5275 - val_loss: 753.1847\n",
      "Epoch 11/100\n",
      "79/79 - 2s - 22ms/step - loss: 104.2993 - val_loss: 422.3398\n",
      "Epoch 11: early stopping\n",
      "Epoch 1/100\n",
      "79/79 - 11s - 144ms/step - loss: 51313.5078 - val_loss: 771411.9375\n",
      "Epoch 2/100\n",
      "79/79 - 2s - 24ms/step - loss: 5290.4219 - val_loss: 57886.9141\n",
      "Epoch 3/100\n",
      "79/79 - 2s - 25ms/step - loss: 2095.9163 - val_loss: 16866.7539\n",
      "Epoch 4/100\n",
      "79/79 - 2s - 24ms/step - loss: 621.8839 - val_loss: 7251.9434\n",
      "Epoch 5/100\n",
      "79/79 - 2s - 26ms/step - loss: 220.4526 - val_loss: 540.1928\n",
      "Epoch 6/100\n",
      "79/79 - 2s - 23ms/step - loss: 134.2692 - val_loss: 315.2828\n",
      "Epoch 7/100\n",
      "79/79 - 2s - 25ms/step - loss: 106.3875 - val_loss: 173.9677\n",
      "Epoch 8/100\n",
      "79/79 - 2s - 23ms/step - loss: 98.5254 - val_loss: 192.3398\n",
      "Epoch 9/100\n",
      "79/79 - 2s - 21ms/step - loss: 91.8113 - val_loss: 290.4093\n",
      "Epoch 10/100\n",
      "79/79 - 2s - 21ms/step - loss: 100.1199 - val_loss: 231.1651\n",
      "Epoch 11/100\n",
      "79/79 - 2s - 21ms/step - loss: 98.5954 - val_loss: 182.6460\n",
      "Epoch 12/100\n",
      "79/79 - 2s - 23ms/step - loss: 100.5742 - val_loss: 185.0429\n",
      "Epoch 12: early stopping\n"
     ]
    }
   ],
   "source": [
    "model_dir = \"models\"\n",
    "if not os.path.exists(model_dir):\n",
    "    os.makedirs(model_dir)\n",
    "\n",
    "for i in range(5):\n",
    "    model = Sequential()\n",
    "    \n",
    "    model.add(LSTM(512, input_shape=(SEQUENCE_SIZE,5), activation=\"relu\"))\n",
    "    model.add(Dropout(0.1))\n",
    "    model.add(Dense(256))\n",
    "    model.add(Dropout(0.1))\n",
    "    model.add(Dense(128))\n",
    "    model.add(Dense(1, activation=None))\n",
    "\n",
    "    model.compile(loss=\"mean_squared_error\", optimizer=\"adam\")\n",
    "\n",
    "    monitor = EarlyStopping(monitor=\"val_loss\", min_delta=1e-3, patience=5, verbose=1, mode=\"auto\")\n",
    "    checkpointer = ModelCheckpoint(filepath=\"models/lstm_checkpoint.keras\", verbose=0, save_best_only=True)\n",
    "\n",
    "    model.fit(x_train, y_train, validation_data=(x_test,y_test), callbacks=[monitor, checkpointer], verbose=2, epochs=100)  \n",
    "    \n",
    "model.load_weights('models/lstm_checkpoint.keras')"
   ]
  },
  {
   "cell_type": "code",
   "execution_count": 85,
   "metadata": {},
   "outputs": [
    {
     "name": "stdout",
     "output_type": "stream",
     "text": [
      "\u001b[1m34/34\u001b[0m \u001b[32m━━━━━━━━━━━━━━━━━━━━\u001b[0m\u001b[37m\u001b[0m \u001b[1m1s\u001b[0m 19ms/step\n",
      "(1072, 1) (1072,)\n",
      "Score (RMSE): 13.189683314016115\n",
      "R2: 0.9960974001859738\n",
      "MSE: 173.9677459240351\n"
     ]
    }
   ],
   "source": [
    "pred = model.predict(x_test)\n",
    "\n",
    "print(pred.shape, y_test.shape)\n",
    "\n",
    "score = np.sqrt(metrics.mean_squared_error(pred,y_test))\n",
    "print(\"Score (RMSE): {}\".format(score))\n",
    "print(\"R2:\",metrics.r2_score(y_test,pred))\n",
    "print(\"MSE:\", metrics.mean_squared_error(y_test, pred))"
   ]
  },
  {
   "cell_type": "markdown",
   "metadata": {},
   "source": [
    "## LSTM Hyperparamter Training\n",
    "Katrina Yu"
   ]
  },
  {
   "cell_type": "markdown",
   "metadata": {},
   "source": [
    "#### Activations"
   ]
  },
  {
   "cell_type": "code",
   "execution_count": 86,
   "metadata": {},
   "outputs": [
    {
     "name": "stderr",
     "output_type": "stream",
     "text": [
      "c:\\Users\\k47r1\\anaconda3\\Lib\\site-packages\\keras\\src\\layers\\rnn\\rnn.py:204: UserWarning: Do not pass an `input_shape`/`input_dim` argument to a layer. When using Sequential models, prefer using an `Input(shape)` object as the first layer in the model instead.\n",
      "  super().__init__(**kwargs)\n"
     ]
    },
    {
     "name": "stdout",
     "output_type": "stream",
     "text": [
      "\u001b[1m34/34\u001b[0m \u001b[32m━━━━━━━━━━━━━━━━━━━━\u001b[0m\u001b[37m\u001b[0m \u001b[1m2s\u001b[0m 21ms/step\n",
      "(1072, 1) (1072,)\n",
      "Score (RMSE): 50.94914773110952\n",
      "R2: 0.9417683454091268\n",
      "MSE: 2595.8156545264223\n"
     ]
    }
   ],
   "source": [
    "for i in range(5):\n",
    "    model = Sequential()\n",
    "    \n",
    "    model.add(LSTM(512, input_shape=(SEQUENCE_SIZE,5), activation=\"sigmoid\"))\n",
    "    model.add(Dropout(0.1))\n",
    "    model.add(Dense(256))\n",
    "    model.add(Dropout(0.1))\n",
    "    model.add(Dense(128))\n",
    "    model.add(Dense(1))\n",
    "\n",
    "    model.compile(loss=\"mean_squared_error\", optimizer=\"adam\")\n",
    "\n",
    "    monitor = EarlyStopping(monitor=\"val_loss\", min_delta=1e-3, patience=5, verbose=0, mode=\"auto\")\n",
    "    checkpointer = ModelCheckpoint(filepath=\"models/lstm_checkpoint_sigmoid.keras\", verbose=0, save_best_only=True)\n",
    "\n",
    "    model.fit(x_train, y_train, validation_data=(x_test,y_test), callbacks=[monitor, checkpointer], verbose=0, epochs=100)  \n",
    "    \n",
    "model.load_weights('models/lstm_checkpoint_sigmoid.keras')\n",
    "\n",
    "pred = model.predict(x_test)\n",
    "\n",
    "print(pred.shape, y_test.shape)\n",
    "\n",
    "score = np.sqrt(metrics.mean_squared_error(pred,y_test))\n",
    "print(\"Score (RMSE): {}\".format(score))\n",
    "print(\"R2:\",metrics.r2_score(y_test,pred))\n",
    "print(\"MSE:\", metrics.mean_squared_error(y_test, pred))"
   ]
  },
  {
   "cell_type": "code",
   "execution_count": 81,
   "metadata": {},
   "outputs": [
    {
     "name": "stderr",
     "output_type": "stream",
     "text": [
      "c:\\Users\\k47r1\\anaconda3\\Lib\\site-packages\\keras\\src\\layers\\rnn\\rnn.py:204: UserWarning: Do not pass an `input_shape`/`input_dim` argument to a layer. When using Sequential models, prefer using an `Input(shape)` object as the first layer in the model instead.\n",
      "  super().__init__(**kwargs)\n"
     ]
    },
    {
     "name": "stdout",
     "output_type": "stream",
     "text": [
      "\u001b[1m34/34\u001b[0m \u001b[32m━━━━━━━━━━━━━━━━━━━━\u001b[0m\u001b[37m\u001b[0m \u001b[1m1s\u001b[0m 9ms/step\n",
      "(1072, 1) (1072,)\n",
      "Score (RMSE): 16.60608332068801\n",
      "R2: 0.9938138605124938\n",
      "MSE: 275.76200325363254\n"
     ]
    }
   ],
   "source": [
    "for i in range(5):\n",
    "    model = Sequential()\n",
    "    \n",
    "    model.add(LSTM(512, input_shape=(SEQUENCE_SIZE,5), activation=\"tanh\"))\n",
    "    model.add(Dropout(0.1))\n",
    "    model.add(Dense(256))\n",
    "    model.add(Dropout(0.1))\n",
    "    model.add(Dense(128))\n",
    "    model.add(Dense(1))\n",
    "\n",
    "    model.compile(loss=\"mean_squared_error\", optimizer=\"adam\")\n",
    "\n",
    "    monitor = EarlyStopping(monitor=\"val_loss\", min_delta=1e-3, patience=5, verbose=0, mode=\"auto\")\n",
    "    checkpointer = ModelCheckpoint(filepath=\"models/lstm_checkpoint_tanh.keras\", verbose=0, save_best_only=True)\n",
    "\n",
    "    model.fit(x_train, y_train, validation_data=(x_test,y_test), callbacks=[monitor, checkpointer], verbose=0, epochs=100)  \n",
    "    \n",
    "model.load_weights('models/lstm_checkpoint_tanh.keras')\n",
    "\n",
    "pred = model.predict(x_test)\n",
    "\n",
    "print(pred.shape, y_test.shape)\n",
    "\n",
    "score = np.sqrt(metrics.mean_squared_error(pred,y_test))\n",
    "print(\"Score (RMSE): {}\".format(score))\n",
    "print(\"R2:\",metrics.r2_score(y_test,pred))\n",
    "print(\"MSE:\", metrics.mean_squared_error(y_test, pred))"
   ]
  },
  {
   "cell_type": "code",
   "execution_count": 82,
   "metadata": {},
   "outputs": [
    {
     "name": "stderr",
     "output_type": "stream",
     "text": [
      "c:\\Users\\k47r1\\anaconda3\\Lib\\site-packages\\keras\\src\\layers\\rnn\\rnn.py:204: UserWarning: Do not pass an `input_shape`/`input_dim` argument to a layer. When using Sequential models, prefer using an `Input(shape)` object as the first layer in the model instead.\n",
      "  super().__init__(**kwargs)\n"
     ]
    },
    {
     "name": "stdout",
     "output_type": "stream",
     "text": [
      "\u001b[1m34/34\u001b[0m \u001b[32m━━━━━━━━━━━━━━━━━━━━\u001b[0m\u001b[37m\u001b[0m \u001b[1m1s\u001b[0m 14ms/step\n",
      "(1072, 1) (1072,)\n",
      "Score (RMSE): 12.990055492589367\n",
      "R2: 0.9962146390656426\n",
      "MSE: 168.74154170055115\n"
     ]
    }
   ],
   "source": [
    "for i in range(5):\n",
    "    model = Sequential()\n",
    "    \n",
    "    model.add(LSTM(512, input_shape=(SEQUENCE_SIZE,5), activation=\"relu\"))\n",
    "    model.add(Dropout(0.1))\n",
    "    model.add(Dense(256))\n",
    "    model.add(Dropout(0.1))\n",
    "    model.add(Dense(128))\n",
    "    model.add(Dense(1))\n",
    "\n",
    "    model.compile(loss=\"mean_squared_error\", optimizer=\"adam\")\n",
    "\n",
    "    monitor = EarlyStopping(monitor=\"val_loss\", min_delta=1e-3, patience=5, verbose=0, mode=\"auto\")\n",
    "    checkpointer = ModelCheckpoint(filepath=\"models/lstm_checkpoint_relu_adam.keras\", verbose=0, save_best_only=True)\n",
    "\n",
    "    model.fit(x_train, y_train, validation_data=(x_test,y_test), callbacks=[monitor, checkpointer], verbose=0, epochs=100)  \n",
    "    \n",
    "model.load_weights('models/lstm_checkpoint_relu_adam.keras')\n",
    "\n",
    "pred = model.predict(x_test)\n",
    "\n",
    "print(pred.shape, y_test.shape)\n",
    "\n",
    "score = np.sqrt(metrics.mean_squared_error(pred,y_test))\n",
    "print(\"Score (RMSE): {}\".format(score))\n",
    "print(\"R2:\",metrics.r2_score(y_test,pred))\n",
    "print(\"MSE:\", metrics.mean_squared_error(y_test, pred))"
   ]
  },
  {
   "cell_type": "markdown",
   "metadata": {},
   "source": [
    "#### Optimizer"
   ]
  },
  {
   "cell_type": "code",
   "execution_count": 87,
   "metadata": {},
   "outputs": [
    {
     "name": "stderr",
     "output_type": "stream",
     "text": [
      "c:\\Users\\k47r1\\anaconda3\\Lib\\site-packages\\keras\\src\\layers\\rnn\\rnn.py:204: UserWarning: Do not pass an `input_shape`/`input_dim` argument to a layer. When using Sequential models, prefer using an `Input(shape)` object as the first layer in the model instead.\n",
      "  super().__init__(**kwargs)\n",
      "c:\\Users\\k47r1\\anaconda3\\Lib\\site-packages\\keras\\src\\saving\\saving_lib.py:713: UserWarning: Skipping variable loading for optimizer 'SGD', because it has 2 variables whereas the saved optimizer has 20 variables. \n",
      "  saveable.load_own_variables(weights_store.get(inner_path))\n"
     ]
    },
    {
     "name": "stdout",
     "output_type": "stream",
     "text": [
      "\u001b[1m34/34\u001b[0m \u001b[32m━━━━━━━━━━━━━━━━━━━━\u001b[0m\u001b[37m\u001b[0m \u001b[1m1s\u001b[0m 19ms/step\n",
      "(1072, 1) (1072,)\n",
      "Score (RMSE): 12.908776159441324\n",
      "R2: 0.9962618611972833\n",
      "MSE: 166.63650193456067\n"
     ]
    }
   ],
   "source": [
    "for i in range(5):\n",
    "    model = Sequential()\n",
    "    \n",
    "    model.add(LSTM(512, input_shape=(SEQUENCE_SIZE,5), activation=\"relu\"))\n",
    "    model.add(Dropout(0.1))\n",
    "    model.add(Dense(256))\n",
    "    model.add(Dropout(0.1))\n",
    "    model.add(Dense(128))\n",
    "    model.add(Dense(1))\n",
    "\n",
    "    model.compile(loss=\"mean_squared_error\", optimizer=\"sgd\")\n",
    "\n",
    "    monitor = EarlyStopping(monitor=\"val_loss\", min_delta=1e-3, patience=5, verbose=0, mode=\"auto\")\n",
    "    checkpointer = ModelCheckpoint(filepath=\"models/lstm_checkpoint_relu_sgd.keras\", verbose=0, save_best_only=True)\n",
    "\n",
    "    model.fit(x_train, y_train, validation_data=(x_test,y_test), callbacks=[monitor, checkpointer], verbose=0, epochs=100)  \n",
    "    \n",
    "model.load_weights('models/lstm_checkpoint_relu_sgd.keras')\n",
    "\n",
    "pred = model.predict(x_test)\n",
    "\n",
    "print(pred.shape, y_test.shape)\n",
    "\n",
    "score = np.sqrt(metrics.mean_squared_error(pred,y_test))\n",
    "print(\"Score (RMSE): {}\".format(score))\n",
    "print(\"R2:\",metrics.r2_score(y_test,pred))\n",
    "print(\"MSE:\", metrics.mean_squared_error(y_test, pred))"
   ]
  },
  {
   "cell_type": "markdown",
   "metadata": {},
   "source": [
    "# Testing best Size for the Sequence"
   ]
  },
  {
   "cell_type": "code",
   "execution_count": 75,
   "metadata": {},
   "outputs": [
    {
     "name": "stdout",
     "output_type": "stream",
     "text": [
      "1\n"
     ]
    },
    {
     "name": "stderr",
     "output_type": "stream",
     "text": [
      "c:\\Users\\k47r1\\anaconda3\\Lib\\site-packages\\keras\\src\\layers\\rnn\\rnn.py:204: UserWarning: Do not pass an `input_shape`/`input_dim` argument to a layer. When using Sequential models, prefer using an `Input(shape)` object as the first layer in the model instead.\n",
      "  super().__init__(**kwargs)\n"
     ]
    },
    {
     "name": "stdout",
     "output_type": "stream",
     "text": [
      "Epoch 1/100\n",
      "79/79 - 10s - 124ms/step - loss: 80105.7109 - val_loss: 531792.3750\n",
      "Epoch 2/100\n",
      "79/79 - 1s - 7ms/step - loss: 32677.7617 - val_loss: 446586.7500\n",
      "Epoch 3/100\n",
      "79/79 - 0s - 6ms/step - loss: 7220.2920 - val_loss: 569582.0625\n",
      "Epoch 4/100\n",
      "79/79 - 1s - 7ms/step - loss: 4238.5024 - val_loss: 201201.6875\n",
      "Epoch 5/100\n",
      "79/79 - 1s - 9ms/step - loss: 2566.4189 - val_loss: 97562.4219\n",
      "Epoch 6/100\n",
      "79/79 - 1s - 12ms/step - loss: 1213.2651 - val_loss: 40364.7070\n",
      "Epoch 7/100\n",
      "79/79 - 1s - 7ms/step - loss: 380.2844 - val_loss: 24271.0449\n",
      "Epoch 8/100\n",
      "79/79 - 1s - 12ms/step - loss: 119.9964 - val_loss: 26996.2285\n",
      "Epoch 9/100\n",
      "79/79 - 1s - 10ms/step - loss: 56.0107 - val_loss: 28357.7090\n",
      "Epoch 10/100\n",
      "79/79 - 1s - 11ms/step - loss: 44.7872 - val_loss: 27706.2480\n",
      "Epoch 11/100\n",
      "79/79 - 1s - 12ms/step - loss: 41.2895 - val_loss: 27770.3262\n",
      "Epoch 12/100\n",
      "79/79 - 1s - 12ms/step - loss: 36.9405 - val_loss: 25424.9121\n",
      "Epoch 13/100\n",
      "79/79 - 1s - 11ms/step - loss: 35.3147 - val_loss: 28348.0742\n",
      "Epoch 14/100\n",
      "79/79 - 1s - 9ms/step - loss: 35.1080 - val_loss: 26418.1211\n",
      "Epoch 15/100\n",
      "79/79 - 1s - 7ms/step - loss: 33.8079 - val_loss: 28606.2832\n",
      "Epoch 16/100\n",
      "79/79 - 1s - 7ms/step - loss: 33.1144 - val_loss: 27074.8379\n",
      "Epoch 17/100\n",
      "79/79 - 1s - 8ms/step - loss: 33.5957 - val_loss: 28993.1016\n",
      "Epoch 17: early stopping\n"
     ]
    },
    {
     "ename": "ValueError",
     "evalue": "The filename must end in `.weights.h5`. Received: filepath=models/lstm_checkpoint.keras",
     "output_type": "error",
     "traceback": [
      "\u001b[1;31m---------------------------------------------------------------------------\u001b[0m",
      "\u001b[1;31mValueError\u001b[0m                                Traceback (most recent call last)",
      "Cell \u001b[1;32mIn[75], line 32\u001b[0m\n\u001b[0;32m     30\u001b[0m checkpointer \u001b[38;5;241m=\u001b[39m ModelCheckpoint(filepath\u001b[38;5;241m=\u001b[39mcheckpoint_path, verbose\u001b[38;5;241m=\u001b[39m\u001b[38;5;241m0\u001b[39m, save_best_only\u001b[38;5;241m=\u001b[39m\u001b[38;5;28;01mTrue\u001b[39;00m)\n\u001b[0;32m     31\u001b[0m history \u001b[38;5;241m=\u001b[39m model\u001b[38;5;241m.\u001b[39mfit(x_train, y_train, validation_data\u001b[38;5;241m=\u001b[39m(x_test,y_test), callbacks\u001b[38;5;241m=\u001b[39m[monitor, checkpointer], verbose\u001b[38;5;241m=\u001b[39m\u001b[38;5;241m2\u001b[39m, epochs\u001b[38;5;241m=\u001b[39m\u001b[38;5;241m100\u001b[39m)\n\u001b[1;32m---> 32\u001b[0m model\u001b[38;5;241m.\u001b[39msave_weights(checkpoint_path)\n\u001b[0;32m     33\u001b[0m model\u001b[38;5;241m.\u001b[39mload_weights(fileName)\n\u001b[0;32m     35\u001b[0m pred \u001b[38;5;241m=\u001b[39m model\u001b[38;5;241m.\u001b[39mpredict(x_test)\n",
      "File \u001b[1;32mc:\\Users\\k47r1\\anaconda3\\Lib\\site-packages\\keras\\src\\utils\\traceback_utils.py:122\u001b[0m, in \u001b[0;36mfilter_traceback.<locals>.error_handler\u001b[1;34m(*args, **kwargs)\u001b[0m\n\u001b[0;32m    119\u001b[0m     filtered_tb \u001b[38;5;241m=\u001b[39m _process_traceback_frames(e\u001b[38;5;241m.\u001b[39m__traceback__)\n\u001b[0;32m    120\u001b[0m     \u001b[38;5;66;03m# To get the full stack trace, call:\u001b[39;00m\n\u001b[0;32m    121\u001b[0m     \u001b[38;5;66;03m# `keras.config.disable_traceback_filtering()`\u001b[39;00m\n\u001b[1;32m--> 122\u001b[0m     \u001b[38;5;28;01mraise\u001b[39;00m e\u001b[38;5;241m.\u001b[39mwith_traceback(filtered_tb) \u001b[38;5;28;01mfrom\u001b[39;00m \u001b[38;5;28;01mNone\u001b[39;00m\n\u001b[0;32m    123\u001b[0m \u001b[38;5;28;01mfinally\u001b[39;00m:\n\u001b[0;32m    124\u001b[0m     \u001b[38;5;28;01mdel\u001b[39;00m filtered_tb\n",
      "File \u001b[1;32mc:\\Users\\k47r1\\anaconda3\\Lib\\site-packages\\keras\\src\\saving\\saving_api.py:222\u001b[0m, in \u001b[0;36msave_weights\u001b[1;34m(model, filepath, overwrite, **kwargs)\u001b[0m\n\u001b[0;32m    219\u001b[0m \u001b[38;5;129m@keras_export\u001b[39m(\u001b[38;5;124m\"\u001b[39m\u001b[38;5;124mkeras.saving.save_weights\u001b[39m\u001b[38;5;124m\"\u001b[39m)\n\u001b[0;32m    220\u001b[0m \u001b[38;5;28;01mdef\u001b[39;00m \u001b[38;5;21msave_weights\u001b[39m(model, filepath, overwrite\u001b[38;5;241m=\u001b[39m\u001b[38;5;28;01mTrue\u001b[39;00m, \u001b[38;5;241m*\u001b[39m\u001b[38;5;241m*\u001b[39mkwargs):\n\u001b[0;32m    221\u001b[0m     \u001b[38;5;28;01mif\u001b[39;00m \u001b[38;5;129;01mnot\u001b[39;00m \u001b[38;5;28mstr\u001b[39m(filepath)\u001b[38;5;241m.\u001b[39mendswith(\u001b[38;5;124m\"\u001b[39m\u001b[38;5;124m.weights.h5\u001b[39m\u001b[38;5;124m\"\u001b[39m):\n\u001b[1;32m--> 222\u001b[0m         \u001b[38;5;28;01mraise\u001b[39;00m \u001b[38;5;167;01mValueError\u001b[39;00m(\n\u001b[0;32m    223\u001b[0m             \u001b[38;5;124m\"\u001b[39m\u001b[38;5;124mThe filename must end in `.weights.h5`. \u001b[39m\u001b[38;5;124m\"\u001b[39m\n\u001b[0;32m    224\u001b[0m             \u001b[38;5;124mf\u001b[39m\u001b[38;5;124m\"\u001b[39m\u001b[38;5;124mReceived: filepath=\u001b[39m\u001b[38;5;132;01m{\u001b[39;00mfilepath\u001b[38;5;132;01m}\u001b[39;00m\u001b[38;5;124m\"\u001b[39m\n\u001b[0;32m    225\u001b[0m         )\n\u001b[0;32m    226\u001b[0m     \u001b[38;5;28;01mtry\u001b[39;00m:\n\u001b[0;32m    227\u001b[0m         exists \u001b[38;5;241m=\u001b[39m os\u001b[38;5;241m.\u001b[39mpath\u001b[38;5;241m.\u001b[39mexists(filepath)\n",
      "\u001b[1;31mValueError\u001b[0m: The filename must end in `.weights.h5`. Received: filepath=models/lstm_checkpoint.keras"
     ]
    }
   ],
   "source": [
    "import matplotlib.pyplot as plt\n",
    "sequence_sizes = []\n",
    "rmse_scores = []\n",
    "results = []\n",
    "step = 1\n",
    "j = 1\n",
    "checkpoint_path = \"models/lstm_checkpoint.keras\"\n",
    "best_val_loss = float('inf')  \n",
    "model_dir = \"models\"\n",
    "\n",
    "\n",
    "while j <= 100:\n",
    "    print(j)\n",
    "    SEQUENCE_SIZE = j\n",
    "    fileName= \"models/lstm_checkpoint_\" + str(j) + \".keras\"\n",
    "    x_train,y_train = to_sequences(SEQUENCE_SIZE, df_train)\n",
    "    x_test,y_test = to_sequences(SEQUENCE_SIZE, df_test)\n",
    "\n",
    "    if not os.path.exists(model_dir):\n",
    "        os.makedirs(model_dir)\n",
    "        \n",
    "    model = Sequential()\n",
    "    model.add(LSTM(128, input_shape=(SEQUENCE_SIZE,5), activation=\"relu\"))\n",
    "    model.add(Dense(64))\n",
    "    model.add(Dense(32))\n",
    "    model.add(Dense(1))\n",
    "\n",
    "    model.compile(loss=\"mean_squared_error\", optimizer=\"adam\")\n",
    "    monitor = EarlyStopping(monitor=\"val_loss\", min_delta=1e-3, patience=10, verbose=1, mode=\"auto\")\n",
    "    checkpointer = ModelCheckpoint(filepath=checkpoint_path, verbose=0, save_best_only=True)\n",
    "    history = model.fit(x_train, y_train, validation_data=(x_test,y_test), callbacks=[monitor, checkpointer], verbose=2, epochs=100)\n",
    "    model.save_weights(checkpoint_path)\n",
    "    model.load_weights(fileName)\n",
    "\n",
    "    pred = model.predict(x_test)\n",
    "    score = np.sqrt(metrics.mean_squared_error(pred,y_test))\n",
    "    sequence_sizes.append(j)\n",
    "    rmse_scores.append(score)\n",
    "    results.append(score)\n",
    "    print(\"Model: \" + str(j) + \"\\nScore (RMSE): {}\".format(score))\n",
    "    print(\"R2:\",metrics.r2_score(y_test,pred))\n",
    "    print(\"MSE:\", metrics.mean_squared_error(y_test, pred))\n",
    "    step = step + 1\n",
    "    j = j + 1\n",
    "minValue = min(results)\n",
    "minIndex = results.index(minValue) + 1\n",
    "print(\"The best number of days was: \" + str(minIndex)  + \"\\nThe RMSE was: \" + str(minValue))"
   ]
  },
  {
   "cell_type": "code",
   "execution_count": null,
   "metadata": {},
   "outputs": [],
   "source": []
  },
  {
   "cell_type": "code",
   "execution_count": null,
   "metadata": {},
   "outputs": [
    {
     "data": {
      "image/png": "[encoded data removed]",
      "text/plain": [
       "<Figure size 1000x600 with 1 Axes>"
      ]
     },
     "metadata": {},
     "output_type": "display_data"
    }
   ],
   "source": [
    "best_sequence_size = sequence_sizes[minIndex]\n",
    "plt.figure(figsize=(10, 6))\n",
    "plt.plot(sequence_sizes, rmse_scores, marker='o', linestyle='-', color='b')\n",
    "plt.xlabel('Sequence Size (Days)')\n",
    "plt.ylabel('RMSE Score')\n",
    "plt.title('Lift Chart: Model Accuracy by Sequence Size')\n",
    "plt.grid(True)\n",
    "plt.show()"
   ]
  }
 ],
 "metadata": {
  "kernelspec": {
   "display_name": "base",
   "language": "python",
   "name": "python3"
  },
  "language_info": {
   "codemirror_mode": {
    "name": "ipython",
    "version": 3
   },
   "file_extension": ".py",
   "mimetype": "text/x-python",
   "name": "python",
   "nbconvert_exporter": "python",
   "pygments_lexer": "ipython3",
   "version": "3.12.4"
  }
 },
 "nbformat": 4,
 "nbformat_minor": 2
}
